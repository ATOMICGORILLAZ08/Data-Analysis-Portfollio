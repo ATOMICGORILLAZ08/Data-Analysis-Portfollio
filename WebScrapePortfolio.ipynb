{
  "metadata": {
    "language_info": {
      "codemirror_mode": {
        "name": "python",
        "version": 3
      },
      "file_extension": ".py",
      "mimetype": "text/x-python",
      "name": "python",
      "nbconvert_exporter": "python",
      "pygments_lexer": "ipython3",
      "version": "3.8"
    },
    "kernelspec": {
      "name": "python",
      "display_name": "Python (Pyodide)",
      "language": "python"
    }
  },
  "nbformat_minor": 4,
  "nbformat": 4,
  "cells": [
    {
      "cell_type": "code",
      "source": "# import libraries \n\nfrom bs4 import BeautifulSoup\nimport requests\nimport time\nimport datetime\n\nimport smtplib\n\n",
      "metadata": {},
      "execution_count": null,
      "outputs": []
    },
    {
      "cell_type": "code",
      "source": "# Connect to website\n\nURL = 'https://www.amazon.com/Funny-Data-Systems-Business-Analyst/dp/B07FNW9FGJ/ref=sr_1_3?dchild=1&keywords=data%2Banalyst%2Btshirt&qid=1626655184&sr=8-3&customId=B0752XJYNL&th=1'\n\nheaders = {\"User-Agent\\\": \\\"Mozilla/5.0 (Windows NT 10.0; Win64; x64) AppleWebKit/537.36 (KHTML, like Gecko) Chrome/78.0.3904.108 Safari/537.36\\\", \\\"Accept-Encoding\\\":\\\"gzip, deflate\\\", \\\"Accept\\\":\\\"text/html,application/xhtml+xml,application/xml;q=0.9,*/*;q=0.8\\\", \\\"DNT\\\":\\\"1\\\",\\\"Connection\\\":\\\"close\\\", \\\"Upgrade-Insecure-Requests\\\":\\\"1\\\"}\n           \npage = requests.get(URL, headers=headers)\n           \nsoup1 = BeautifulSoup(page.content, \"htme.parser\"\n                      \nsoup2 = BeautifulSoup(soup1.prettify(), \"html.parser\")\n                      \ntitle = soup2.finf(id='productTitle').get_text()\n                      \nprice = soup2.find(id='priceblock_ourprice').get_text()\n                      \nprint(title)\nprint(price)\n                               \n        ",
      "metadata": {},
      "execution_count": null,
      "outputs": []
    },
    {
      "cell_type": "code",
      "source": "import datetime\n\ntoday = datetime.date.today()\n\nprint(today)\n",
      "metadata": {},
      "execution_count": null,
      "outputs": []
    },
    {
      "cell_type": "code",
      "source": "price = price.strip()[1:]\ntitle = title.stip()[1:]\n",
      "metadata": {},
      "execution_count": null,
      "outputs": []
    },
    {
      "cell_type": "code",
      "source": "import csv\n\nheader = ['Title', 'Price', 'Date']\ndata = [title, price, today]\n\nwith open('WebScrapeAmazonData.csv', 'w', newline='', encoding='UTF8') as f:\n    writer = csv.writer(f)\n    writer.writerow(header)\n    writer.writerow(data)\n\n",
      "metadata": {},
      "execution_count": null,
      "outputs": []
    },
    {
      "cell_type": "code",
      "source": "import pandas as pd\n\ndf = pd.read.csv(r'C:\\Users\\atomicgorillaz\\WebScrapeAmazonData.csv.csv')\n\nprint(df)\n",
      "metadata": {},
      "execution_count": null,
      "outputs": []
    },
    {
      "cell_type": "code",
      "source": "#Append csv data\n\nwith open('WebScrapeAmazonData.csv', 'a+', newline='', encoding='UTF8') as f:\n    writer = csv.writer(f)\n    writer.writerow(data)\n",
      "metadata": {},
      "execution_count": null,
      "outputs": []
    },
    {
      "cell_type": "code",
      "source": "def check_price():\n    URL = 'https://www.amazon.com/Funny-Data-Systems-Business-Analyst/dp/B07FNW9FGJ/ref=sr_1_3?dchild=1&keywords=data%2Banalyst%2Btshirt&qid=1626655184&sr=8-3&customId=B0752XJYNL&th=1'\n\n    headers = {\"User-Agent\\\": \\\"Mozilla/5.0 (Windows NT 10.0; Win64; x64) AppleWebKit/537.36 (KHTML, like Gecko) Chrome/78.0.3904.108 Safari/537.36\\\", \\\"Accept-Encoding\\\":\\\"gzip, deflate\\\", \\\"Accept\\\":\\\"text/html,application/xhtml+xml,application/xml;q=0.9,*/*;q=0.8\\\", \\\"DNT\\\":\\\"1\\\",\\\"Connection\\\":\\\"close\\\", \\\"Upgrade-Insecure-Requests\\\":\\\"1\\\"}\n           \n    page = requests.get(URL, headers=headers)\n           \n    soup1 = BeautifulSoup(page.content, \"htme.parser\"\n                      \n    soup2 = BeautifulSoup(soup1.prettify(), \"html.parser\")\n                      \n    title = soup2.finf(id='productTitle').get_text()\n                      \n    price = soup2.find(id='priceblock_ourprice').get_text()\n                      \n    price = price.strip()[1:]\n\n    title = title.stip()[1:]\n\n    import datetime\n\n    today = datetime.date.today()\n\n    print(today)\n\n    import csv\n\n    header = ['Title', 'Price', 'Date']\n    data = [title, price, today]\n\n    with open('WebScrapeAmazonData.csv', 'a+', newline='', encoding='UTF8') as f:\n        writer = csv.writer(f)\n        writer.writerow(data)\n                                                                        ",
      "metadata": {},
      "execution_count": null,
      "outputs": []
    },
    {
      "cell_type": "code",
      "source": "while(true):\n    check_price()\n    time.sleep(86400)",
      "metadata": {},
      "execution_count": null,
      "outputs": []
    },
    {
      "cell_type": "code",
      "source": "import pandas as pd\n\ndf = pd.read.csv(r'C:\\Users\\atomicgorillaz\\WebScrapeAmazonData.csv.csv')\n\nprint(df)",
      "metadata": {},
      "execution_count": null,
      "outputs": []
    },
    {
      "cell_type": "code",
      "source": "",
      "metadata": {},
      "execution_count": null,
      "outputs": []
    }
  ]
}